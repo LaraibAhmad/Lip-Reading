{
 "cells": [
  {
   "cell_type": "code",
   "execution_count": 1,
   "metadata": {},
   "outputs": [],
   "source": [
    "import os\n",
    "import cv2\n",
    "import tensorflow as tf\n",
    "import numpy as np\n",
    "from typing import List\n",
    "from matplotlib import pyplot as plt\n",
    "import imageio\n",
    "import gdown"
   ]
  },
  {
   "cell_type": "code",
   "execution_count": 2,
   "metadata": {},
   "outputs": [
    {
     "data": {
      "text/plain": [
       "[]"
      ]
     },
     "execution_count": 2,
     "metadata": {},
     "output_type": "execute_result"
    }
   ],
   "source": [
    "tf.config.list_physical_devices('GPU')"
   ]
  },
  {
   "cell_type": "markdown",
   "metadata": {},
   "source": [
    "1. Bulding data loading function"
   ]
  },
  {
   "cell_type": "code",
   "execution_count": 3,
   "metadata": {},
   "outputs": [
    {
     "data": {
      "text/plain": [
       "'c:\\\\Users\\\\larai\\\\Downloads\\\\personal_details\\\\Lip_Reading_Sentence'"
      ]
     },
     "execution_count": 3,
     "metadata": {},
     "output_type": "execute_result"
    }
   ],
   "source": [
    "os.getcwd()"
   ]
  },
  {
   "cell_type": "code",
   "execution_count": 4,
   "metadata": {},
   "outputs": [],
   "source": [
    "# url = 'https://drive.google.com/uc?id=1YlvpDLix3S-U8fd-gqRwPcWXAXm8JwjL'\n",
    "# output = 'data.zip'\n",
    "# gdown.download(url, output, quiet=False)\n",
    "# gdown.extractall('data.zip')"
   ]
  },
  {
   "cell_type": "code",
   "execution_count": 5,
   "metadata": {},
   "outputs": [],
   "source": [
    "def load_video(path:str) -> List[float]: \n",
    "\n",
    "    cap = cv2.VideoCapture(path)\n",
    "    frames = []\n",
    "    for _ in range(int(cap.get(cv2.CAP_PROP_FRAME_COUNT))): \n",
    "        ret, frame = cap.read()\n",
    "        frame = tf.image.rgb_to_grayscale(frame)\n",
    "        frames.append(frame[190:236,80:220,:])\n",
    "    cap.release()\n",
    "    \n",
    "    mean = tf.math.reduce_mean(frames)\n",
    "    std = tf.math.reduce_std(tf.cast(frames, tf.float32))\n",
    "    return tf.cast((frames - mean), tf.float32) / std"
   ]
  },
  {
   "cell_type": "code",
   "execution_count": 6,
   "metadata": {},
   "outputs": [],
   "source": [
    "vocab = [x for x in \"abcdefghijklmnopqrstuvwxyz'?!123456789 \"]"
   ]
  },
  {
   "cell_type": "code",
   "execution_count": 7,
   "metadata": {},
   "outputs": [
    {
     "data": {
      "text/plain": [
       "['a',\n",
       " 'b',\n",
       " 'c',\n",
       " 'd',\n",
       " 'e',\n",
       " 'f',\n",
       " 'g',\n",
       " 'h',\n",
       " 'i',\n",
       " 'j',\n",
       " 'k',\n",
       " 'l',\n",
       " 'm',\n",
       " 'n',\n",
       " 'o',\n",
       " 'p',\n",
       " 'q',\n",
       " 'r',\n",
       " 's',\n",
       " 't',\n",
       " 'u',\n",
       " 'v',\n",
       " 'w',\n",
       " 'x',\n",
       " 'y',\n",
       " 'z',\n",
       " \"'\",\n",
       " '?',\n",
       " '!',\n",
       " '1',\n",
       " '2',\n",
       " '3',\n",
       " '4',\n",
       " '5',\n",
       " '6',\n",
       " '7',\n",
       " '8',\n",
       " '9',\n",
       " ' ']"
      ]
     },
     "execution_count": 7,
     "metadata": {},
     "output_type": "execute_result"
    }
   ],
   "source": [
    "vocab"
   ]
  },
  {
   "cell_type": "code",
   "execution_count": 8,
   "metadata": {},
   "outputs": [
    {
     "name": "stdout",
     "output_type": "stream",
     "text": [
      "The vocabulary is: ['', 'a', 'b', 'c', 'd', 'e', 'f', 'g', 'h', 'i', 'j', 'k', 'l', 'm', 'n', 'o', 'p', 'q', 'r', 's', 't', 'u', 'v', 'w', 'x', 'y', 'z', \"'\", '?', '!', '1', '2', '3', '4', '5', '6', '7', '8', '9', ' '] (size =40)\n"
     ]
    }
   ],
   "source": [
    "char_to_num = tf.keras.layers.StringLookup(vocabulary=vocab, oov_token=\"\")\n",
    "num_to_char = tf.keras.layers.StringLookup(\n",
    "    vocabulary=char_to_num.get_vocabulary(), oov_token=\"\", invert=True\n",
    ")\n",
    "\n",
    "print(\n",
    "    f\"The vocabulary is: {char_to_num.get_vocabulary()} \"\n",
    "    f\"(size ={char_to_num.vocabulary_size()})\"\n",
    ")"
   ]
  },
  {
   "cell_type": "code",
   "execution_count": 9,
   "metadata": {},
   "outputs": [
    {
     "data": {
      "text/plain": [
       "<tf.Tensor: shape=(4,), dtype=int64, numpy=array([14,  9,  3, 11], dtype=int64)>"
      ]
     },
     "execution_count": 9,
     "metadata": {},
     "output_type": "execute_result"
    }
   ],
   "source": [
    "char_to_num(['n','i','c','k'])"
   ]
  },
  {
   "cell_type": "code",
   "execution_count": 10,
   "metadata": {},
   "outputs": [
    {
     "data": {
      "text/plain": [
       "<tf.Tensor: shape=(4,), dtype=string, numpy=array([b'n', b'i', b'c', b'k'], dtype=object)>"
      ]
     },
     "execution_count": 10,
     "metadata": {},
     "output_type": "execute_result"
    }
   ],
   "source": [
    "num_to_char([14,  9,  3, 11])"
   ]
  },
  {
   "cell_type": "code",
   "execution_count": 11,
   "metadata": {},
   "outputs": [
    {
     "data": {
      "text/plain": [
       "['',\n",
       " 'a',\n",
       " 'b',\n",
       " 'c',\n",
       " 'd',\n",
       " 'e',\n",
       " 'f',\n",
       " 'g',\n",
       " 'h',\n",
       " 'i',\n",
       " 'j',\n",
       " 'k',\n",
       " 'l',\n",
       " 'm',\n",
       " 'n',\n",
       " 'o',\n",
       " 'p',\n",
       " 'q',\n",
       " 'r',\n",
       " 's',\n",
       " 't',\n",
       " 'u',\n",
       " 'v',\n",
       " 'w',\n",
       " 'x',\n",
       " 'y',\n",
       " 'z',\n",
       " \"'\",\n",
       " '?',\n",
       " '!',\n",
       " '1',\n",
       " '2',\n",
       " '3',\n",
       " '4',\n",
       " '5',\n",
       " '6',\n",
       " '7',\n",
       " '8',\n",
       " '9',\n",
       " ' ']"
      ]
     },
     "execution_count": 11,
     "metadata": {},
     "output_type": "execute_result"
    }
   ],
   "source": [
    "char_to_num.get_vocabulary()"
   ]
  },
  {
   "cell_type": "code",
   "execution_count": 12,
   "metadata": {},
   "outputs": [],
   "source": [
    "def load_alignments(path:str) -> List[str]: \n",
    "    with open(path, 'r') as f: \n",
    "        lines = f.readlines() \n",
    "    tokens = []\n",
    "    for line in lines:\n",
    "        line = line.split()\n",
    "        if line[2] != 'sil': \n",
    "            tokens = [*tokens,' ',line[2]]\n",
    "    return char_to_num(tf.reshape(tf.strings.unicode_split(tokens, input_encoding='UTF-8'), (-1)))[1:]"
   ]
  },
  {
   "cell_type": "code",
   "execution_count": 13,
   "metadata": {},
   "outputs": [],
   "source": [
    "def load_data(path: str): \n",
    "    path = bytes.decode(path.numpy())\n",
    "    #file_name = path.split('/')[-1].split('.')[0]\n",
    "    # File name splitting for windows\n",
    "    file_name = path.split('\\\\')[-1].split('.')[0]\n",
    "    video_path = os.path.join('data','s1',f'{file_name}.mpg')\n",
    "    alignment_path = os.path.join('data','alignments','s1',f'{file_name}.align')\n",
    "    frames = load_video(video_path) \n",
    "    alignments = load_alignments(alignment_path)\n",
    "    \n",
    "    return frames, alignments"
   ]
  },
  {
   "cell_type": "code",
   "execution_count": 14,
   "metadata": {},
   "outputs": [],
   "source": [
    "test_path = '.\\\\data\\\\s1\\\\bbal6n.mpg'"
   ]
  },
  {
   "cell_type": "code",
   "execution_count": 15,
   "metadata": {},
   "outputs": [
    {
     "data": {
      "text/plain": [
       "'bbal6n'"
      ]
     },
     "execution_count": 15,
     "metadata": {},
     "output_type": "execute_result"
    }
   ],
   "source": [
    "tf.convert_to_tensor(test_path).numpy().decode('utf-8').split('\\\\')[-1].split('.')[0]"
   ]
  },
  {
   "cell_type": "code",
   "execution_count": 16,
   "metadata": {},
   "outputs": [],
   "source": [
    "frames, alignments = load_data(tf.convert_to_tensor(test_path))"
   ]
  },
  {
   "cell_type": "code",
   "execution_count": 17,
   "metadata": {},
   "outputs": [
    {
     "data": {
      "text/plain": [
       "<matplotlib.image.AxesImage at 0x1b940f32ad0>"
      ]
     },
     "execution_count": 17,
     "metadata": {},
     "output_type": "execute_result"
    },
    {
     "data": {
      "image/png": "[encoded data removed]",
      "text/plain": [
       "<Figure size 640x480 with 1 Axes>"
      ]
     },
     "metadata": {},
     "output_type": "display_data"
    }
   ],
   "source": [
    "plt.imshow(frames[40])"
   ]
  },
  {
   "cell_type": "code",
   "execution_count": 18,
   "metadata": {},
   "outputs": [
    {
     "name": "stdout",
     "output_type": "stream",
     "text": [
      "['b', 'i', 'n', ' ', 'b', 'l', 'u', 'e', ' ', 'a', 't', ' ', 'l', ' ', 's', 'i', 'x', ' ', 'n', 'o', 'w']\n"
     ]
    }
   ],
   "source": [
    "print([bytes.decode(x) for x in num_to_char(alignments.numpy()).numpy()])"
   ]
  },
  {
   "cell_type": "code",
   "execution_count": 19,
   "metadata": {},
   "outputs": [
    {
     "data": {
      "text/plain": [
       "<tf.Tensor: shape=(), dtype=string, numpy=b'bin blue at l six now'>"
      ]
     },
     "execution_count": 19,
     "metadata": {},
     "output_type": "execute_result"
    }
   ],
   "source": [
    "tf.strings.reduce_join([bytes.decode(x) for x in num_to_char(alignments.numpy()).numpy()])"
   ]
  },
  {
   "cell_type": "code",
   "execution_count": 20,
   "metadata": {},
   "outputs": [],
   "source": [
    "def mappable_function(path:str) ->List[str]:\n",
    "    result = tf.py_function(load_data, [path], (tf.float32, tf.int64))\n",
    "    return result"
   ]
  },
  {
   "cell_type": "markdown",
   "metadata": {},
   "source": [
    "2. Create Data Pipeline"
   ]
  },
  {
   "cell_type": "code",
   "execution_count": 21,
   "metadata": {},
   "outputs": [],
   "source": [
    "from matplotlib import pyplot as plt"
   ]
  },
  {
   "cell_type": "code",
   "execution_count": 22,
   "metadata": {},
   "outputs": [],
   "source": [
    "data = tf.data.Dataset.list_files('./data/s1/*.mpg')\n",
    "data = data.shuffle(500, reshuffle_each_iteration=False)\n",
    "data = data.map(mappable_function)\n",
    "data = data.padded_batch(2, padded_shapes=([75,None,None,None],[40]))\n",
    "data = data.prefetch(tf.data.AUTOTUNE)\n",
    "# Added for split \n",
    "train = data.take(450)\n",
    "test = data.skip(450)"
   ]
  },
  {
   "cell_type": "code",
   "execution_count": 23,
   "metadata": {},
   "outputs": [],
   "source": [
    "frames, alignments = data.as_numpy_iterator().next()"
   ]
  },
  {
   "cell_type": "code",
   "execution_count": 24,
   "metadata": {},
   "outputs": [
    {
     "data": {
      "text/plain": [
       "2"
      ]
     },
     "execution_count": 24,
     "metadata": {},
     "output_type": "execute_result"
    }
   ],
   "source": [
    "len(frames)"
   ]
  },
  {
   "cell_type": "code",
   "execution_count": 25,
   "metadata": {},
   "outputs": [],
   "source": [
    "test = data.as_numpy_iterator()"
   ]
  },
  {
   "cell_type": "code",
   "execution_count": 26,
   "metadata": {},
   "outputs": [
    {
     "data": {
      "text/plain": [
       "array([[[[[ 0.5220858 ],\n",
       "          [ 0.9236902 ],\n",
       "          [ 1.084332  ],\n",
       "          ...,\n",
       "          [ 0.32128355],\n",
       "          [ 0.2811231 ],\n",
       "          [ 0.2811231 ]],\n",
       "\n",
       "         [[ 0.40160444],\n",
       "          [ 0.5220858 ],\n",
       "          [ 0.4819253 ],\n",
       "          ...,\n",
       "          [ 0.32128355],\n",
       "          [ 0.2811231 ],\n",
       "          [ 0.2811231 ]],\n",
       "\n",
       "         [[ 1.2449738 ],\n",
       "          [ 1.2449738 ],\n",
       "          [ 1.0441716 ],\n",
       "          ...,\n",
       "          [ 0.32128355],\n",
       "          [ 0.2811231 ],\n",
       "          [ 0.2811231 ]],\n",
       "\n",
       "         ...,\n",
       "\n",
       "         [[ 1.1244924 ],\n",
       "          [ 1.1244924 ],\n",
       "          [ 1.1244924 ],\n",
       "          ...,\n",
       "          [ 0.04016044],\n",
       "          [ 0.04016044],\n",
       "          [ 0.04016044]],\n",
       "\n",
       "         [[ 1.084332  ],\n",
       "          [ 1.084332  ],\n",
       "          [ 1.084332  ],\n",
       "          ...,\n",
       "          [ 0.        ],\n",
       "          [ 0.        ],\n",
       "          [ 0.        ]],\n",
       "\n",
       "         [[ 1.084332  ],\n",
       "          [ 1.084332  ],\n",
       "          [ 1.084332  ],\n",
       "          ...,\n",
       "          [ 0.        ],\n",
       "          [ 0.        ],\n",
       "          [ 0.        ]]],\n",
       "\n",
       "\n",
       "        [[[ 0.722888  ],\n",
       "          [ 1.0441716 ],\n",
       "          [ 1.2048132 ],\n",
       "          ...,\n",
       "          [ 0.32128355],\n",
       "          [ 0.2811231 ],\n",
       "          [ 0.2811231 ]],\n",
       "\n",
       "         [[ 0.6425671 ],\n",
       "          [ 0.6425671 ],\n",
       "          [ 0.4819253 ],\n",
       "          ...,\n",
       "          [ 0.32128355],\n",
       "          [ 0.2811231 ],\n",
       "          [ 0.2811231 ]],\n",
       "\n",
       "         [[ 1.2449738 ],\n",
       "          [ 1.2449738 ],\n",
       "          [ 0.9638506 ],\n",
       "          ...,\n",
       "          [ 0.2811231 ],\n",
       "          [ 0.2811231 ],\n",
       "          [ 0.2811231 ]],\n",
       "\n",
       "         ...,\n",
       "\n",
       "         [[ 1.1244924 ],\n",
       "          [ 1.1244924 ],\n",
       "          [ 1.1244924 ],\n",
       "          ...,\n",
       "          [ 0.        ],\n",
       "          [ 0.        ],\n",
       "          [ 0.        ]],\n",
       "\n",
       "         [[ 1.1244924 ],\n",
       "          [ 1.1244924 ],\n",
       "          [ 1.084332  ],\n",
       "          ...,\n",
       "          [ 0.        ],\n",
       "          [ 0.        ],\n",
       "          [ 0.        ]],\n",
       "\n",
       "         [[ 1.1244924 ],\n",
       "          [ 1.1244924 ],\n",
       "          [ 1.084332  ],\n",
       "          ...,\n",
       "          [ 0.        ],\n",
       "          [ 0.        ],\n",
       "          [ 0.        ]]],\n",
       "\n",
       "\n",
       "        [[[ 0.722888  ],\n",
       "          [ 1.0441716 ],\n",
       "          [ 1.2048132 ],\n",
       "          ...,\n",
       "          [ 0.2811231 ],\n",
       "          [ 0.20080222],\n",
       "          [ 0.20080222]],\n",
       "\n",
       "         [[ 0.6425671 ],\n",
       "          [ 0.6425671 ],\n",
       "          [ 0.4819253 ],\n",
       "          ...,\n",
       "          [ 0.2811231 ],\n",
       "          [ 0.20080222],\n",
       "          [ 0.20080222]],\n",
       "\n",
       "         [[ 1.2048132 ],\n",
       "          [ 1.2048132 ],\n",
       "          [ 0.9236902 ],\n",
       "          ...,\n",
       "          [ 0.32128355],\n",
       "          [ 0.2811231 ],\n",
       "          [ 0.2811231 ]],\n",
       "\n",
       "         ...,\n",
       "\n",
       "         [[ 1.2048132 ],\n",
       "          [ 1.2048132 ],\n",
       "          [ 1.1244924 ],\n",
       "          ...,\n",
       "          [ 0.        ],\n",
       "          [ 0.        ],\n",
       "          [ 0.        ]],\n",
       "\n",
       "         [[ 1.1244924 ],\n",
       "          [ 1.1244924 ],\n",
       "          [ 1.084332  ],\n",
       "          ...,\n",
       "          [10.240913  ],\n",
       "          [10.240913  ],\n",
       "          [10.240913  ]],\n",
       "\n",
       "         [[ 1.1244924 ],\n",
       "          [ 1.1244924 ],\n",
       "          [ 1.084332  ],\n",
       "          ...,\n",
       "          [10.240913  ],\n",
       "          [10.240913  ],\n",
       "          [10.240913  ]]],\n",
       "\n",
       "\n",
       "        ...,\n",
       "\n",
       "\n",
       "        [[[ 0.6425671 ],\n",
       "          [ 0.8835297 ],\n",
       "          [ 1.084332  ],\n",
       "          ...,\n",
       "          [ 0.2811231 ],\n",
       "          [ 0.2811231 ],\n",
       "          [ 0.2811231 ]],\n",
       "\n",
       "         [[ 0.6827275 ],\n",
       "          [ 0.361444  ],\n",
       "          [ 0.24096265],\n",
       "          ...,\n",
       "          [ 0.2811231 ],\n",
       "          [ 0.2811231 ],\n",
       "          [ 0.2811231 ]],\n",
       "\n",
       "         [[ 1.2851342 ],\n",
       "          [ 1.2449738 ],\n",
       "          [ 1.0441716 ],\n",
       "          ...,\n",
       "          [ 0.32128355],\n",
       "          [ 0.32128355],\n",
       "          [ 0.2811231 ]],\n",
       "\n",
       "         ...,\n",
       "\n",
       "         [[ 1.084332  ],\n",
       "          [ 1.084332  ],\n",
       "          [ 1.084332  ],\n",
       "          ...,\n",
       "          [ 0.04016044],\n",
       "          [ 0.        ],\n",
       "          [ 0.        ]],\n",
       "\n",
       "         [[ 1.084332  ],\n",
       "          [ 1.084332  ],\n",
       "          [ 1.0441716 ],\n",
       "          ...,\n",
       "          [ 0.04016044],\n",
       "          [ 0.        ],\n",
       "          [ 0.        ]],\n",
       "\n",
       "         [[ 1.084332  ],\n",
       "          [ 1.084332  ],\n",
       "          [ 1.0441716 ],\n",
       "          ...,\n",
       "          [ 0.        ],\n",
       "          [ 0.        ],\n",
       "          [10.240913  ]]],\n",
       "\n",
       "\n",
       "        [[[ 0.8032089 ],\n",
       "          [ 0.8032089 ],\n",
       "          [ 1.004011  ],\n",
       "          ...,\n",
       "          [ 0.2811231 ],\n",
       "          [ 0.2811231 ],\n",
       "          [ 0.2811231 ]],\n",
       "\n",
       "         [[ 0.6827275 ],\n",
       "          [ 0.4819253 ],\n",
       "          [ 0.32128355],\n",
       "          ...,\n",
       "          [ 0.32128355],\n",
       "          [ 0.32128355],\n",
       "          [ 0.2811231 ]],\n",
       "\n",
       "         [[ 1.4056156 ],\n",
       "          [ 1.365455  ],\n",
       "          [ 1.1244924 ],\n",
       "          ...,\n",
       "          [ 0.2811231 ],\n",
       "          [ 0.2811231 ],\n",
       "          [ 0.2811231 ]],\n",
       "\n",
       "         ...,\n",
       "\n",
       "         [[ 1.0441716 ],\n",
       "          [ 1.0441716 ],\n",
       "          [ 1.084332  ],\n",
       "          ...,\n",
       "          [ 0.04016044],\n",
       "          [ 0.04016044],\n",
       "          [ 0.        ]],\n",
       "\n",
       "         [[ 1.0441716 ],\n",
       "          [ 1.0441716 ],\n",
       "          [ 1.084332  ],\n",
       "          ...,\n",
       "          [ 0.04016044],\n",
       "          [ 0.        ],\n",
       "          [ 0.        ]],\n",
       "\n",
       "         [[ 1.0441716 ],\n",
       "          [ 1.0441716 ],\n",
       "          [ 1.084332  ],\n",
       "          ...,\n",
       "          [ 0.        ],\n",
       "          [ 0.        ],\n",
       "          [10.240913  ]]],\n",
       "\n",
       "\n",
       "        [[[ 0.8835297 ],\n",
       "          [ 0.8433693 ],\n",
       "          [ 1.004011  ],\n",
       "          ...,\n",
       "          [ 0.2811231 ],\n",
       "          [ 0.2811231 ],\n",
       "          [ 0.2811231 ]],\n",
       "\n",
       "         [[ 0.722888  ],\n",
       "          [ 0.5622462 ],\n",
       "          [ 0.32128355],\n",
       "          ...,\n",
       "          [ 0.2811231 ],\n",
       "          [ 0.2811231 ],\n",
       "          [ 0.2811231 ]],\n",
       "\n",
       "         [[ 1.4056156 ],\n",
       "          [ 1.365455  ],\n",
       "          [ 1.1244924 ],\n",
       "          ...,\n",
       "          [ 0.2811231 ],\n",
       "          [ 0.2811231 ],\n",
       "          [ 0.2811231 ]],\n",
       "\n",
       "         ...,\n",
       "\n",
       "         [[ 1.1244924 ],\n",
       "          [ 1.1244924 ],\n",
       "          [ 1.084332  ],\n",
       "          ...,\n",
       "          [ 0.04016044],\n",
       "          [ 0.04016044],\n",
       "          [ 0.        ]],\n",
       "\n",
       "         [[ 1.084332  ],\n",
       "          [ 1.084332  ],\n",
       "          [ 1.0441716 ],\n",
       "          ...,\n",
       "          [ 0.04016044],\n",
       "          [ 0.04016044],\n",
       "          [ 0.        ]],\n",
       "\n",
       "         [[ 1.084332  ],\n",
       "          [ 1.084332  ],\n",
       "          [ 1.0441716 ],\n",
       "          ...,\n",
       "          [ 0.04016044],\n",
       "          [ 0.        ],\n",
       "          [ 0.        ]]]],\n",
       "\n",
       "\n",
       "\n",
       "       [[[[ 1.2991995 ],\n",
       "          [ 1.2991995 ],\n",
       "          [ 1.2991995 ],\n",
       "          ...,\n",
       "          [ 9.017973  ],\n",
       "          [ 9.438302  ],\n",
       "          [ 9.514726  ]],\n",
       "\n",
       "         [[ 1.2991995 ],\n",
       "          [ 1.2991995 ],\n",
       "          [ 1.2991995 ],\n",
       "          ...,\n",
       "          [ 8.788702  ],\n",
       "          [ 9.438302  ],\n",
       "          [ 9.438302  ]],\n",
       "\n",
       "         [[ 1.2991995 ],\n",
       "          [ 1.2991995 ],\n",
       "          [ 1.2991995 ],\n",
       "          ...,\n",
       "          [ 9.438302  ],\n",
       "          [ 0.03821175],\n",
       "          [ 0.03821175]],\n",
       "\n",
       "         ...,\n",
       "\n",
       "         [[ 0.9552937 ],\n",
       "          [ 0.9552937 ],\n",
       "          [ 0.8788702 ],\n",
       "          ...,\n",
       "          [ 9.667572  ],\n",
       "          [ 9.705784  ],\n",
       "          [ 9.705784  ]],\n",
       "\n",
       "         [[ 0.9552937 ],\n",
       "          [ 0.9552937 ],\n",
       "          [ 0.8788702 ],\n",
       "          ...,\n",
       "          [ 9.62936   ],\n",
       "          [ 9.667572  ],\n",
       "          [ 9.705784  ]],\n",
       "\n",
       "         [[ 0.9552937 ],\n",
       "          [ 0.9552937 ],\n",
       "          [ 0.8788702 ],\n",
       "          ...,\n",
       "          [ 9.62936   ],\n",
       "          [ 9.667572  ],\n",
       "          [ 9.667572  ]]],\n",
       "\n",
       "\n",
       "        [[[ 1.2991995 ],\n",
       "          [ 1.2991995 ],\n",
       "          [ 1.2609876 ],\n",
       "          ...,\n",
       "          [ 8.75049   ],\n",
       "          [ 9.514726  ],\n",
       "          [ 9.514726  ]],\n",
       "\n",
       "         [[ 1.2991995 ],\n",
       "          [ 1.2991995 ],\n",
       "          [ 1.2609876 ],\n",
       "          ...,\n",
       "          [ 8.674067  ],\n",
       "          [ 9.40009   ],\n",
       "          [ 9.514726  ]],\n",
       "\n",
       "         [[ 1.2609876 ],\n",
       "          [ 1.2609876 ],\n",
       "          [ 1.2991995 ],\n",
       "          ...,\n",
       "          [ 9.40009   ],\n",
       "          [ 0.        ],\n",
       "          [ 0.        ]],\n",
       "\n",
       "         ...,\n",
       "\n",
       "         [[ 0.9552937 ],\n",
       "          [ 0.9552937 ],\n",
       "          [ 0.8788702 ],\n",
       "          ...,\n",
       "          [ 9.705784  ],\n",
       "          [ 9.667572  ],\n",
       "          [ 9.705784  ]],\n",
       "\n",
       "         [[ 0.9552937 ],\n",
       "          [ 0.9552937 ],\n",
       "          [ 0.8788702 ],\n",
       "          ...,\n",
       "          [ 9.62936   ],\n",
       "          [ 9.667572  ],\n",
       "          [ 9.743996  ]],\n",
       "\n",
       "         [[ 0.9552937 ],\n",
       "          [ 0.9552937 ],\n",
       "          [ 0.8788702 ],\n",
       "          ...,\n",
       "          [ 9.62936   ],\n",
       "          [ 9.667572  ],\n",
       "          [ 9.705784  ]]],\n",
       "\n",
       "\n",
       "        [[[ 1.2991995 ],\n",
       "          [ 1.2991995 ],\n",
       "          [ 1.2609876 ],\n",
       "          ...,\n",
       "          [ 8.826914  ],\n",
       "          [ 9.705784  ],\n",
       "          [ 9.62936   ]],\n",
       "\n",
       "         [[ 1.2991995 ],\n",
       "          [ 1.2991995 ],\n",
       "          [ 1.2609876 ],\n",
       "          ...,\n",
       "          [ 8.712278  ],\n",
       "          [ 9.514726  ],\n",
       "          [ 9.62936   ]],\n",
       "\n",
       "         [[ 1.3374112 ],\n",
       "          [ 1.3374112 ],\n",
       "          [ 1.3374112 ],\n",
       "          ...,\n",
       "          [ 9.361878  ],\n",
       "          [ 0.        ],\n",
       "          [ 0.        ]],\n",
       "\n",
       "         ...,\n",
       "\n",
       "         [[ 0.9935055 ],\n",
       "          [ 0.9935055 ],\n",
       "          [ 0.9552937 ],\n",
       "          ...,\n",
       "          [ 9.743996  ],\n",
       "          [ 9.743996  ],\n",
       "          [ 9.705784  ]],\n",
       "\n",
       "         [[ 0.9552937 ],\n",
       "          [ 0.9552937 ],\n",
       "          [ 0.91708195],\n",
       "          ...,\n",
       "          [ 9.62936   ],\n",
       "          [ 9.667572  ],\n",
       "          [ 9.743996  ]],\n",
       "\n",
       "         [[ 0.9552937 ],\n",
       "          [ 0.9552937 ],\n",
       "          [ 0.91708195],\n",
       "          ...,\n",
       "          [ 9.591148  ],\n",
       "          [ 9.667572  ],\n",
       "          [ 9.705784  ]]],\n",
       "\n",
       "\n",
       "        ...,\n",
       "\n",
       "\n",
       "        [[[ 1.3374112 ],\n",
       "          [ 1.3374112 ],\n",
       "          [ 1.2609876 ],\n",
       "          ...,\n",
       "          [ 0.45854098],\n",
       "          [ 9.514726  ],\n",
       "          [ 9.247243  ]],\n",
       "\n",
       "         [[ 1.2991995 ],\n",
       "          [ 1.2991995 ],\n",
       "          [ 1.2227759 ],\n",
       "          ...,\n",
       "          [ 9.743996  ],\n",
       "          [ 9.094396  ],\n",
       "          [ 9.247243  ]],\n",
       "\n",
       "         [[ 1.2991995 ],\n",
       "          [ 1.2991995 ],\n",
       "          [ 1.2991995 ],\n",
       "          ...,\n",
       "          [ 9.170819  ],\n",
       "          [ 9.62936   ],\n",
       "          [ 9.667572  ]],\n",
       "\n",
       "         ...,\n",
       "\n",
       "         [[ 0.8788702 ],\n",
       "          [ 0.8788702 ],\n",
       "          [ 0.8788702 ],\n",
       "          ...,\n",
       "          [ 0.03821175],\n",
       "          [ 0.        ],\n",
       "          [ 0.        ]],\n",
       "\n",
       "         [[ 0.8788702 ],\n",
       "          [ 0.8788702 ],\n",
       "          [ 0.8788702 ],\n",
       "          ...,\n",
       "          [ 9.705784  ],\n",
       "          [ 0.        ],\n",
       "          [ 9.743996  ]],\n",
       "\n",
       "         [[ 0.8788702 ],\n",
       "          [ 0.8788702 ],\n",
       "          [ 0.8788702 ],\n",
       "          ...,\n",
       "          [ 9.667572  ],\n",
       "          [ 9.743996  ],\n",
       "          [ 9.705784  ]]],\n",
       "\n",
       "\n",
       "        [[[ 1.2991995 ],\n",
       "          [ 1.2991995 ],\n",
       "          [ 1.2991995 ],\n",
       "          ...,\n",
       "          [ 0.42032924],\n",
       "          [ 9.476514  ],\n",
       "          [ 9.323667  ]],\n",
       "\n",
       "         [[ 1.2991995 ],\n",
       "          [ 1.2991995 ],\n",
       "          [ 1.2991995 ],\n",
       "          ...,\n",
       "          [ 9.361878  ],\n",
       "          [ 9.247243  ],\n",
       "          [ 9.323667  ]],\n",
       "\n",
       "         [[ 1.2991995 ],\n",
       "          [ 1.2991995 ],\n",
       "          [ 1.2991995 ],\n",
       "          ...,\n",
       "          [ 8.979761  ],\n",
       "          [ 9.667572  ],\n",
       "          [ 9.705784  ]],\n",
       "\n",
       "         ...,\n",
       "\n",
       "         [[ 0.8788702 ],\n",
       "          [ 0.8788702 ],\n",
       "          [ 0.8788702 ],\n",
       "          ...,\n",
       "          [ 0.0764235 ],\n",
       "          [ 0.        ],\n",
       "          [ 0.03821175]],\n",
       "\n",
       "         [[ 0.8788702 ],\n",
       "          [ 0.8788702 ],\n",
       "          [ 0.8788702 ],\n",
       "          ...,\n",
       "          [ 9.705784  ],\n",
       "          [ 9.743996  ],\n",
       "          [ 9.743996  ]],\n",
       "\n",
       "         [[ 0.8788702 ],\n",
       "          [ 0.8788702 ],\n",
       "          [ 0.8788702 ],\n",
       "          ...,\n",
       "          [ 9.667572  ],\n",
       "          [ 9.705784  ],\n",
       "          [ 9.705784  ]]],\n",
       "\n",
       "\n",
       "        [[[ 1.3374112 ],\n",
       "          [ 1.3374112 ],\n",
       "          [ 1.3374112 ],\n",
       "          ...,\n",
       "          [ 0.22927049],\n",
       "          [ 9.361878  ],\n",
       "          [ 9.40009   ]],\n",
       "\n",
       "         [[ 1.3374112 ],\n",
       "          [ 1.3374112 ],\n",
       "          [ 1.3374112 ],\n",
       "          ...,\n",
       "          [ 9.247243  ],\n",
       "          [ 9.209031  ],\n",
       "          [ 9.40009   ]],\n",
       "\n",
       "         [[ 1.2991995 ],\n",
       "          [ 1.2991995 ],\n",
       "          [ 1.2991995 ],\n",
       "          ...,\n",
       "          [ 8.941549  ],\n",
       "          [ 9.62936   ],\n",
       "          [ 9.705784  ]],\n",
       "\n",
       "         ...,\n",
       "\n",
       "         [[ 0.91708195],\n",
       "          [ 0.91708195],\n",
       "          [ 0.91708195],\n",
       "          ...,\n",
       "          [ 0.0764235 ],\n",
       "          [ 9.743996  ],\n",
       "          [ 9.743996  ]],\n",
       "\n",
       "         [[ 0.8788702 ],\n",
       "          [ 0.8788702 ],\n",
       "          [ 0.8788702 ],\n",
       "          ...,\n",
       "          [ 9.705784  ],\n",
       "          [ 9.667572  ],\n",
       "          [ 9.705784  ]],\n",
       "\n",
       "         [[ 0.8788702 ],\n",
       "          [ 0.8788702 ],\n",
       "          [ 0.8788702 ],\n",
       "          ...,\n",
       "          [ 9.667572  ],\n",
       "          [ 9.667572  ],\n",
       "          [ 9.705784  ]]]]], dtype=float32)"
      ]
     },
     "execution_count": 26,
     "metadata": {},
     "output_type": "execute_result"
    }
   ],
   "source": [
    "val = test.next(); val[0]"
   ]
  },
  {
   "cell_type": "code",
   "execution_count": 27,
   "metadata": {},
   "outputs": [
    {
     "name": "stderr",
     "output_type": "stream",
     "text": [
      "Lossy conversion from float32 to uint8. Range [0.0, 9.743995666503906]. Convert image to uint8 prior to saving to suppress this warning.\n",
      "Lossy conversion from float32 to uint8. Range [0.0, 9.743995666503906]. Convert image to uint8 prior to saving to suppress this warning.\n",
      "Lossy conversion from float32 to uint8. Range [0.0, 9.743995666503906]. Convert image to uint8 prior to saving to suppress this warning.\n",
      "Lossy conversion from float32 to uint8. Range [0.0, 9.743995666503906]. Convert image to uint8 prior to saving to suppress this warning.\n",
      "Lossy conversion from float32 to uint8. Range [0.0, 9.743995666503906]. Convert image to uint8 prior to saving to suppress this warning.\n",
      "Lossy conversion from float32 to uint8. Range [0.0, 9.743995666503906]. Convert image to uint8 prior to saving to suppress this warning.\n",
      "Lossy conversion from float32 to uint8. Range [0.0, 9.743995666503906]. Convert image to uint8 prior to saving to suppress this warning.\n",
      "Lossy conversion from float32 to uint8. Range [0.0, 9.743995666503906]. Convert image to uint8 prior to saving to suppress this warning.\n",
      "Lossy conversion from float32 to uint8. Range [0.0, 9.743995666503906]. Convert image to uint8 prior to saving to suppress this warning.\n",
      "Lossy conversion from float32 to uint8. Range [0.0, 9.743995666503906]. Convert image to uint8 prior to saving to suppress this warning.\n",
      "Lossy conversion from float32 to uint8. Range [0.0, 9.743995666503906]. Convert image to uint8 prior to saving to suppress this warning.\n",
      "Lossy conversion from float32 to uint8. Range [0.0, 9.743995666503906]. Convert image to uint8 prior to saving to suppress this warning.\n",
      "Lossy conversion from float32 to uint8. Range [0.0, 9.743995666503906]. Convert image to uint8 prior to saving to suppress this warning.\n",
      "Lossy conversion from float32 to uint8. Range [0.0, 9.743995666503906]. Convert image to uint8 prior to saving to suppress this warning.\n",
      "Lossy conversion from float32 to uint8. Range [0.0, 9.743995666503906]. Convert image to uint8 prior to saving to suppress this warning.\n",
      "Lossy conversion from float32 to uint8. Range [0.0, 9.743995666503906]. Convert image to uint8 prior to saving to suppress this warning.\n",
      "Lossy conversion from float32 to uint8. Range [0.0, 9.743995666503906]. Convert image to uint8 prior to saving to suppress this warning.\n",
      "Lossy conversion from float32 to uint8. Range [0.0, 9.743995666503906]. Convert image to uint8 prior to saving to suppress this warning.\n",
      "Lossy conversion from float32 to uint8. Range [0.0, 9.743995666503906]. Convert image to uint8 prior to saving to suppress this warning.\n",
      "Lossy conversion from float32 to uint8. Range [0.0, 9.743995666503906]. Convert image to uint8 prior to saving to suppress this warning.\n",
      "Lossy conversion from float32 to uint8. Range [0.0, 9.743995666503906]. Convert image to uint8 prior to saving to suppress this warning.\n",
      "Lossy conversion from float32 to uint8. Range [0.0, 9.743995666503906]. Convert image to uint8 prior to saving to suppress this warning.\n",
      "Lossy conversion from float32 to uint8. Range [0.0, 9.743995666503906]. Convert image to uint8 prior to saving to suppress this warning.\n",
      "Lossy conversion from float32 to uint8. Range [0.0, 9.743995666503906]. Convert image to uint8 prior to saving to suppress this warning.\n",
      "Lossy conversion from float32 to uint8. Range [0.0, 9.743995666503906]. Convert image to uint8 prior to saving to suppress this warning.\n",
      "Lossy conversion from float32 to uint8. Range [0.0, 9.743995666503906]. Convert image to uint8 prior to saving to suppress this warning.\n",
      "Lossy conversion from float32 to uint8. Range [0.0, 9.743995666503906]. Convert image to uint8 prior to saving to suppress this warning.\n",
      "Lossy conversion from float32 to uint8. Range [0.0, 9.743995666503906]. Convert image to uint8 prior to saving to suppress this warning.\n",
      "Lossy conversion from float32 to uint8. Range [0.0, 9.743995666503906]. Convert image to uint8 prior to saving to suppress this warning.\n",
      "Lossy conversion from float32 to uint8. Range [0.0, 9.743995666503906]. Convert image to uint8 prior to saving to suppress this warning.\n",
      "Lossy conversion from float32 to uint8. Range [0.0, 9.743995666503906]. Convert image to uint8 prior to saving to suppress this warning.\n",
      "Lossy conversion from float32 to uint8. Range [0.0, 9.743995666503906]. Convert image to uint8 prior to saving to suppress this warning.\n",
      "Lossy conversion from float32 to uint8. Range [0.0, 9.743995666503906]. Convert image to uint8 prior to saving to suppress this warning.\n",
      "Lossy conversion from float32 to uint8. Range [0.0, 9.743995666503906]. Convert image to uint8 prior to saving to suppress this warning.\n",
      "Lossy conversion from float32 to uint8. Range [0.0, 9.743995666503906]. Convert image to uint8 prior to saving to suppress this warning.\n",
      "Lossy conversion from float32 to uint8. Range [0.0, 9.743995666503906]. Convert image to uint8 prior to saving to suppress this warning.\n",
      "Lossy conversion from float32 to uint8. Range [0.0, 9.743995666503906]. Convert image to uint8 prior to saving to suppress this warning.\n",
      "Lossy conversion from float32 to uint8. Range [0.0, 9.743995666503906]. Convert image to uint8 prior to saving to suppress this warning.\n",
      "Lossy conversion from float32 to uint8. Range [0.0, 9.743995666503906]. Convert image to uint8 prior to saving to suppress this warning.\n",
      "Lossy conversion from float32 to uint8. Range [0.0, 9.743995666503906]. Convert image to uint8 prior to saving to suppress this warning.\n",
      "Lossy conversion from float32 to uint8. Range [0.0, 9.743995666503906]. Convert image to uint8 prior to saving to suppress this warning.\n",
      "Lossy conversion from float32 to uint8. Range [0.0, 9.743995666503906]. Convert image to uint8 prior to saving to suppress this warning.\n",
      "Lossy conversion from float32 to uint8. Range [0.0, 9.743995666503906]. Convert image to uint8 prior to saving to suppress this warning.\n",
      "Lossy conversion from float32 to uint8. Range [0.0, 9.743995666503906]. Convert image to uint8 prior to saving to suppress this warning.\n",
      "Lossy conversion from float32 to uint8. Range [0.0, 9.743995666503906]. Convert image to uint8 prior to saving to suppress this warning.\n",
      "Lossy conversion from float32 to uint8. Range [0.0, 9.743995666503906]. Convert image to uint8 prior to saving to suppress this warning.\n",
      "Lossy conversion from float32 to uint8. Range [0.0, 9.743995666503906]. Convert image to uint8 prior to saving to suppress this warning.\n",
      "Lossy conversion from float32 to uint8. Range [0.0, 9.743995666503906]. Convert image to uint8 prior to saving to suppress this warning.\n",
      "Lossy conversion from float32 to uint8. Range [0.0, 9.743995666503906]. Convert image to uint8 prior to saving to suppress this warning.\n",
      "Lossy conversion from float32 to uint8. Range [0.0, 9.743995666503906]. Convert image to uint8 prior to saving to suppress this warning.\n",
      "Lossy conversion from float32 to uint8. Range [0.0, 9.743995666503906]. Convert image to uint8 prior to saving to suppress this warning.\n",
      "Lossy conversion from float32 to uint8. Range [0.0, 9.743995666503906]. Convert image to uint8 prior to saving to suppress this warning.\n",
      "Lossy conversion from float32 to uint8. Range [0.0, 9.743995666503906]. Convert image to uint8 prior to saving to suppress this warning.\n",
      "Lossy conversion from float32 to uint8. Range [0.0, 9.743995666503906]. Convert image to uint8 prior to saving to suppress this warning.\n",
      "Lossy conversion from float32 to uint8. Range [0.0, 9.743995666503906]. Convert image to uint8 prior to saving to suppress this warning.\n",
      "Lossy conversion from float32 to uint8. Range [0.0, 9.743995666503906]. Convert image to uint8 prior to saving to suppress this warning.\n",
      "Lossy conversion from float32 to uint8. Range [0.0, 9.743995666503906]. Convert image to uint8 prior to saving to suppress this warning.\n",
      "Lossy conversion from float32 to uint8. Range [0.0, 9.743995666503906]. Convert image to uint8 prior to saving to suppress this warning.\n",
      "Lossy conversion from float32 to uint8. Range [0.0, 9.743995666503906]. Convert image to uint8 prior to saving to suppress this warning.\n",
      "Lossy conversion from float32 to uint8. Range [0.0, 9.743995666503906]. Convert image to uint8 prior to saving to suppress this warning.\n",
      "Lossy conversion from float32 to uint8. Range [0.0, 9.743995666503906]. Convert image to uint8 prior to saving to suppress this warning.\n",
      "Lossy conversion from float32 to uint8. Range [0.0, 9.743995666503906]. Convert image to uint8 prior to saving to suppress this warning.\n",
      "Lossy conversion from float32 to uint8. Range [0.0, 9.743995666503906]. Convert image to uint8 prior to saving to suppress this warning.\n",
      "Lossy conversion from float32 to uint8. Range [0.0, 9.743995666503906]. Convert image to uint8 prior to saving to suppress this warning.\n",
      "Lossy conversion from float32 to uint8. Range [0.0, 9.743995666503906]. Convert image to uint8 prior to saving to suppress this warning.\n",
      "Lossy conversion from float32 to uint8. Range [0.0, 9.743995666503906]. Convert image to uint8 prior to saving to suppress this warning.\n",
      "Lossy conversion from float32 to uint8. Range [0.0, 9.743995666503906]. Convert image to uint8 prior to saving to suppress this warning.\n",
      "Lossy conversion from float32 to uint8. Range [0.0, 9.743995666503906]. Convert image to uint8 prior to saving to suppress this warning.\n",
      "Lossy conversion from float32 to uint8. Range [0.0, 9.743995666503906]. Convert image to uint8 prior to saving to suppress this warning.\n",
      "Lossy conversion from float32 to uint8. Range [0.0, 9.743995666503906]. Convert image to uint8 prior to saving to suppress this warning.\n",
      "Lossy conversion from float32 to uint8. Range [0.0, 9.743995666503906]. Convert image to uint8 prior to saving to suppress this warning.\n",
      "Lossy conversion from float32 to uint8. Range [0.0, 9.743995666503906]. Convert image to uint8 prior to saving to suppress this warning.\n",
      "Lossy conversion from float32 to uint8. Range [0.0, 9.743995666503906]. Convert image to uint8 prior to saving to suppress this warning.\n",
      "Lossy conversion from float32 to uint8. Range [0.0, 9.743995666503906]. Convert image to uint8 prior to saving to suppress this warning.\n",
      "Lossy conversion from float32 to uint8. Range [0.0, 9.743995666503906]. Convert image to uint8 prior to saving to suppress this warning.\n"
     ]
    }
   ],
   "source": [
    "imageio.mimsave('./animation.gif', val[0][1], fps=10)"
   ]
  },
  {
   "cell_type": "code",
   "execution_count": 28,
   "metadata": {},
   "outputs": [
    {
     "data": {
      "text/plain": [
       "<matplotlib.image.AxesImage at 0x1b943677eb0>"
      ]
     },
     "execution_count": 28,
     "metadata": {},
     "output_type": "execute_result"
    },
    {
     "data": {
      "image/png": "[encoded data removed]",
      "text/plain": [
       "<Figure size 640x480 with 1 Axes>"
      ]
     },
     "metadata": {},
     "output_type": "display_data"
    }
   ],
   "source": [
    "# 0:videos, 0: 1st video out of the batch,  0: return the first frame in the video \n",
    "plt.imshow(val[0][0][74])"
   ]
  },
  {
   "cell_type": "code",
   "execution_count": 29,
   "metadata": {},
   "outputs": [
    {
     "data": {
      "text/plain": [
       "<tf.Tensor: shape=(), dtype=string, numpy=b'place white by y one again'>"
      ]
     },
     "execution_count": 29,
     "metadata": {},
     "output_type": "execute_result"
    }
   ],
   "source": [
    "tf.strings.reduce_join([num_to_char(word) for word in val[1][1]])"
   ]
  },
  {
   "cell_type": "markdown",
   "metadata": {},
   "source": [
    "3. Design the Deep Neural Network"
   ]
  },
  {
   "cell_type": "code",
   "execution_count": 30,
   "metadata": {},
   "outputs": [],
   "source": [
    "from tensorflow.keras.models import Sequential \n",
    "from tensorflow.keras.layers import Conv3D, LSTM, Dense, Dropout, Bidirectional, MaxPool3D, Activation, Reshape, SpatialDropout3D, BatchNormalization, TimeDistributed, Flatten\n",
    "from tensorflow.keras.optimizers import Adam\n",
    "from tensorflow.keras.callbacks import ModelCheckpoint, LearningRateScheduler"
   ]
  },
  {
   "cell_type": "code",
   "execution_count": 31,
   "metadata": {},
   "outputs": [
    {
     "data": {
      "text/plain": [
       "(75, 46, 140, 1)"
      ]
     },
     "execution_count": 31,
     "metadata": {},
     "output_type": "execute_result"
    }
   ],
   "source": [
    "data.as_numpy_iterator().next()[0][0].shape"
   ]
  },
  {
   "cell_type": "code",
   "execution_count": 32,
   "metadata": {},
   "outputs": [],
   "source": [
    "model = Sequential()\n",
    "model.add(Conv3D(128, 3, input_shape=(75,46,140,1), padding='same'))\n",
    "model.add(Activation('relu'))\n",
    "model.add(MaxPool3D((1,2,2)))\n",
    "\n",
    "model.add(Conv3D(256, 3, padding='same'))\n",
    "model.add(Activation('relu'))\n",
    "model.add(MaxPool3D((1,2,2)))\n",
    "\n",
    "model.add(Conv3D(75, 3, padding='same'))\n",
    "model.add(Activation('relu'))\n",
    "model.add(MaxPool3D((1,2,2)))\n",
    "\n",
    "model.add(TimeDistributed(Flatten()))\n",
    "\n",
    "model.add(Bidirectional(LSTM(128, kernel_initializer='Orthogonal', return_sequences=True)))\n",
    "model.add(Dropout(.5))\n",
    "\n",
    "model.add(Bidirectional(LSTM(128, kernel_initializer='Orthogonal', return_sequences=True)))\n",
    "model.add(Dropout(.5))\n",
    "\n",
    "model.add(Dense(char_to_num.vocabulary_size()+1, kernel_initializer='he_normal', activation='softmax'))"
   ]
  },
  {
   "cell_type": "code",
   "execution_count": 33,
   "metadata": {},
   "outputs": [
    {
     "name": "stdout",
     "output_type": "stream",
     "text": [
      "1/1 [==============================] - 3s 3s/step\n"
     ]
    }
   ],
   "source": [
    "yhat = model.predict(val[0])"
   ]
  },
  {
   "cell_type": "code",
   "execution_count": 34,
   "metadata": {},
   "outputs": [
    {
     "data": {
      "text/plain": [
       "<tf.Tensor: shape=(), dtype=string, numpy=b'dddddddddddddddddddddddddddddddddddddddddddddddddddddddddddddkkkkkkkkkkkkkk'>"
      ]
     },
     "execution_count": 34,
     "metadata": {},
     "output_type": "execute_result"
    }
   ],
   "source": [
    "tf.strings.reduce_join([num_to_char(x) for x in tf.argmax(yhat[0],axis=1)])"
   ]
  },
  {
   "cell_type": "code",
   "execution_count": 35,
   "metadata": {},
   "outputs": [
    {
     "data": {
      "text/plain": [
       "<tf.Tensor: shape=(), dtype=string, numpy=b'dddddddddddddddddddddddddddddddddddddddddddddddddddddddddddddkkkkkkkkkkkkkk'>"
      ]
     },
     "execution_count": 35,
     "metadata": {},
     "output_type": "execute_result"
    }
   ],
   "source": [
    "tf.strings.reduce_join([num_to_char(tf.argmax(x)) for x in yhat[0]])"
   ]
  },
  {
   "cell_type": "code",
   "execution_count": 36,
   "metadata": {},
   "outputs": [
    {
     "data": {
      "text/plain": [
       "(None, 75, 46, 140, 1)"
      ]
     },
     "execution_count": 36,
     "metadata": {},
     "output_type": "execute_result"
    }
   ],
   "source": [
    "model.input_shape"
   ]
  },
  {
   "cell_type": "code",
   "execution_count": 37,
   "metadata": {},
   "outputs": [
    {
     "data": {
      "text/plain": [
       "(None, 75, 41)"
      ]
     },
     "execution_count": 37,
     "metadata": {},
     "output_type": "execute_result"
    }
   ],
   "source": [
    "model.output_shape"
   ]
  },
  {
   "cell_type": "markdown",
   "metadata": {},
   "source": [
    "4. Setup Training Options and Train"
   ]
  },
  {
   "cell_type": "code",
   "execution_count": 38,
   "metadata": {},
   "outputs": [],
   "source": [
    "def scheduler(epoch, lr):\n",
    "    if epoch < 30:\n",
    "        return lr\n",
    "    else:\n",
    "        return lr * tf.math.exp(-0.1)"
   ]
  },
  {
   "cell_type": "code",
   "execution_count": 39,
   "metadata": {},
   "outputs": [],
   "source": [
    "def CTCLoss(y_true, y_pred):\n",
    "    batch_len = tf.cast(tf.shape(y_true)[0], dtype=\"int64\")\n",
    "    input_length = tf.cast(tf.shape(y_pred)[1], dtype=\"int64\")\n",
    "    label_length = tf.cast(tf.shape(y_true)[1], dtype=\"int64\")\n",
    "\n",
    "    input_length = input_length * tf.ones(shape=(batch_len, 1), dtype=\"int64\")\n",
    "    label_length = label_length * tf.ones(shape=(batch_len, 1), dtype=\"int64\")\n",
    "\n",
    "    loss = tf.keras.backend.ctc_batch_cost(y_true, y_pred, input_length, label_length)\n",
    "    return loss"
   ]
  },
  {
   "cell_type": "code",
   "execution_count": 40,
   "metadata": {},
   "outputs": [],
   "source": [
    "class ProduceExample(tf.keras.callbacks.Callback): \n",
    "    def __init__(self, dataset) -> None: \n",
    "        self.dataset = dataset\n",
    "    \n",
    "    def on_epoch_end(self, epoch, logs=None) -> None:\n",
    "        data = self.dataset.next()\n",
    "        yhat = self.model.predict(data[0])\n",
    "        decoded = tf.keras.backend.ctc_decode(yhat, [75,75], greedy=False)[0][0].numpy()\n",
    "        for x in range(len(yhat)):           \n",
    "            print('Original:', tf.strings.reduce_join(num_to_char(data[1][x])).numpy().decode('utf-8'))\n",
    "            print('Prediction:', tf.strings.reduce_join(num_to_char(decoded[x])).numpy().decode('utf-8'))\n",
    "            print('~'*100)"
   ]
  },
  {
   "cell_type": "code",
   "execution_count": 41,
   "metadata": {},
   "outputs": [],
   "source": [
    "model.compile(optimizer=Adam(learning_rate=0.0001), loss=CTCLoss)"
   ]
  },
  {
   "cell_type": "code",
   "execution_count": 42,
   "metadata": {},
   "outputs": [],
   "source": [
    "checkpoint_callback = ModelCheckpoint(os.path.join('models','checkpoint'), monitor='loss', save_weights_only=True) "
   ]
  },
  {
   "cell_type": "code",
   "execution_count": 43,
   "metadata": {},
   "outputs": [],
   "source": [
    "schedule_callback = LearningRateScheduler(scheduler)"
   ]
  },
  {
   "cell_type": "code",
   "execution_count": 44,
   "metadata": {},
   "outputs": [],
   "source": [
    "example_callback = ProduceExample(test)"
   ]
  },
  {
   "cell_type": "code",
   "execution_count": 45,
   "metadata": {},
   "outputs": [],
   "source": [
    "# model.fit(train, validation_data=test, epochs=100, callbacks=[checkpoint_callback, schedule_callback, example_callback])"
   ]
  },
  {
   "cell_type": "markdown",
   "metadata": {},
   "source": [
    "5. Make a Prediction"
   ]
  },
  {
   "cell_type": "code",
   "execution_count": 46,
   "metadata": {},
   "outputs": [],
   "source": [
    "# url = 'https://drive.google.com/uc?id=1vWscXs4Vt0a_1IH1-ct2TCgXAZT-N3_Y'\n",
    "# output = 'checkpoints.zip'\n",
    "# gdown.download(url, output, quiet=False)\n",
    "# gdown.extractall('checkpoints.zip', 'models')"
   ]
  },
  {
   "cell_type": "code",
   "execution_count": 47,
   "metadata": {},
   "outputs": [
    {
     "data": {
      "text/plain": [
       "<tensorflow.python.checkpoint.checkpoint.CheckpointLoadStatus at 0x1b92f602dd0>"
      ]
     },
     "execution_count": 47,
     "metadata": {},
     "output_type": "execute_result"
    }
   ],
   "source": [
    "model.load_weights('models/checkpoint')"
   ]
  },
  {
   "cell_type": "code",
   "execution_count": 48,
   "metadata": {},
   "outputs": [],
   "source": [
    "test_data = test"
   ]
  },
  {
   "cell_type": "code",
   "execution_count": 49,
   "metadata": {},
   "outputs": [],
   "source": [
    "sample = test_data.next()"
   ]
  },
  {
   "cell_type": "code",
   "execution_count": 50,
   "metadata": {},
   "outputs": [
    {
     "name": "stdout",
     "output_type": "stream",
     "text": [
      "1/1 [==============================] - 3s 3s/step\n"
     ]
    }
   ],
   "source": [
    "yhat = model.predict(sample[0])"
   ]
  },
  {
   "cell_type": "code",
   "execution_count": 51,
   "metadata": {},
   "outputs": [
    {
     "name": "stdout",
     "output_type": "stream",
     "text": [
      "~~~~~~~~~~~~~~~~~~~~~~~~~~~~~~~~~~~~~~~~~~~~~~~~~~~~~~~~~~~~~~~~~~~~~~~~~~~~~~~~~~~~~~~~~~~~~~~~~~~~ REAL TEXT\n"
     ]
    },
    {
     "data": {
      "text/plain": [
       "[<tf.Tensor: shape=(), dtype=string, numpy=b'lay red with f zero now'>,\n",
       " <tf.Tensor: shape=(), dtype=string, numpy=b'place white at q zero now'>]"
      ]
     },
     "execution_count": 51,
     "metadata": {},
     "output_type": "execute_result"
    }
   ],
   "source": [
    "print('~'*100, 'REAL TEXT')\n",
    "[tf.strings.reduce_join([num_to_char(word) for word in sentence]) for sentence in sample[1]]"
   ]
  },
  {
   "cell_type": "code",
   "execution_count": 52,
   "metadata": {},
   "outputs": [],
   "source": [
    "decoded = tf.keras.backend.ctc_decode(yhat, input_length=[75,75], greedy=True)[0][0].numpy()"
   ]
  },
  {
   "cell_type": "code",
   "execution_count": 53,
   "metadata": {},
   "outputs": [
    {
     "name": "stdout",
     "output_type": "stream",
     "text": [
      "~~~~~~~~~~~~~~~~~~~~~~~~~~~~~~~~~~~~~~~~~~~~~~~~~~~~~~~~~~~~~~~~~~~~~~~~~~~~~~~~~~~~~~~~~~~~~~~~~~~~ PREDICTIONS\n"
     ]
    },
    {
     "data": {
      "text/plain": [
       "[<tf.Tensor: shape=(), dtype=string, numpy=b'lay red with zero now'>,\n",
       " <tf.Tensor: shape=(), dtype=string, numpy=b'place white at q zero now'>]"
      ]
     },
     "execution_count": 53,
     "metadata": {},
     "output_type": "execute_result"
    }
   ],
   "source": [
    "print('~'*100, 'PREDICTIONS')\n",
    "[tf.strings.reduce_join([num_to_char(word) for word in sentence]) for sentence in decoded]"
   ]
  },
  {
   "cell_type": "markdown",
   "metadata": {},
   "source": [
    "# 5. Test on a Video"
   ]
  },
  {
   "cell_type": "code",
   "execution_count": 60,
   "metadata": {},
   "outputs": [],
   "source": [
    "sample = load_data(tf.convert_to_tensor('.\\\\data\\\\s1\\\\sria7s.mpg'))"
   ]
  },
  {
   "cell_type": "code",
   "execution_count": 61,
   "metadata": {},
   "outputs": [
    {
     "name": "stdout",
     "output_type": "stream",
     "text": [
      "~~~~~~~~~~~~~~~~~~~~~~~~~~~~~~~~~~~~~~~~~~~~~~~~~~~~~~~~~~~~~~~~~~~~~~~~~~~~~~~~~~~~~~~~~~~~~~~~~~~~ REAL TEXT\n"
     ]
    },
    {
     "data": {
      "text/plain": [
       "[<tf.Tensor: shape=(), dtype=string, numpy=b'set red in a seven soon'>]"
      ]
     },
     "execution_count": 61,
     "metadata": {},
     "output_type": "execute_result"
    }
   ],
   "source": [
    "print('~'*100, 'REAL TEXT')\n",
    "[tf.strings.reduce_join([num_to_char(word) for word in sentence]) for sentence in [sample[1]]]"
   ]
  },
  {
   "cell_type": "code",
   "execution_count": 62,
   "metadata": {},
   "outputs": [
    {
     "name": "stdout",
     "output_type": "stream",
     "text": [
      "1/1 [==============================] - 1s 874ms/step\n"
     ]
    }
   ],
   "source": [
    "yhat = model.predict(tf.expand_dims(sample[0], axis=0))"
   ]
  },
  {
   "cell_type": "code",
   "execution_count": 63,
   "metadata": {},
   "outputs": [],
   "source": [
    "decoded = tf.keras.backend.ctc_decode(yhat, input_length=[75], greedy=True)[0][0].numpy()"
   ]
  },
  {
   "cell_type": "code",
   "execution_count": 64,
   "metadata": {},
   "outputs": [
    {
     "name": "stdout",
     "output_type": "stream",
     "text": [
      "~~~~~~~~~~~~~~~~~~~~~~~~~~~~~~~~~~~~~~~~~~~~~~~~~~~~~~~~~~~~~~~~~~~~~~~~~~~~~~~~~~~~~~~~~~~~~~~~~~~~ PREDICTIONS\n"
     ]
    },
    {
     "data": {
      "text/plain": [
       "[<tf.Tensor: shape=(), dtype=string, numpy=b'set red in a seven soon'>]"
      ]
     },
     "execution_count": 64,
     "metadata": {},
     "output_type": "execute_result"
    }
   ],
   "source": [
    "print('~'*100, 'PREDICTIONS')\n",
    "[tf.strings.reduce_join([num_to_char(word) for word in sentence]) for sentence in decoded]"
   ]
  },
  {
   "cell_type": "code",
   "execution_count": null,
   "metadata": {},
   "outputs": [],
   "source": []
  },
  {
   "cell_type": "code",
   "execution_count": null,
   "metadata": {},
   "outputs": [],
   "source": []
  }
 ],
 "metadata": {
  "kernelspec": {
   "display_name": "LipReadproject",
   "language": "python",
   "name": "python3"
  },
  "language_info": {
   "codemirror_mode": {
    "name": "ipython",
    "version": 3
   },
   "file_extension": ".py",
   "mimetype": "text/x-python",
   "name": "python",
   "nbconvert_exporter": "python",
   "pygments_lexer": "ipython3",
   "version": "3.10.16"
  }
 },
 "nbformat": 4,
 "nbformat_minor": 2
}
